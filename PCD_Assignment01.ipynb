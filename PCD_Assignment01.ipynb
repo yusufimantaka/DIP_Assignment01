{
  "cells": [
    {
      "cell_type": "code",
      "execution_count": 22,
      "metadata": {
        "id": "zVDuvWfY4cDS"
      },
      "outputs": [],
      "source": [
        "import cv2\n",
        "import matplotlib.pyplot as plt\n",
        "import numpy as np"
      ]
    },
    {
      "cell_type": "code",
      "execution_count": 36,
      "metadata": {},
      "outputs": [
        {
          "data": {
            "image/png": "[encoded data removed]",
            "text/plain": [
              "<Figure size 640x480 with 1 Axes>"
            ]
          },
          "metadata": {},
          "output_type": "display_data"
        }
      ],
      "source": [
        "img = np.random.choice([0, 255], size=(10, 10), p=[0.5, 0.5]).astype(np.uint8)\n",
        "plt.imshow(img, cmap='gray')\n",
        "plt.title(\"Random 10x10 BW Image\")\n",
        "plt.show()"
      ]
    },
    {
      "cell_type": "code",
      "execution_count": 37,
      "metadata": {
        "id": "9m7GrCqRuGGY"
      },
      "outputs": [],
      "source": [
        "# Downsample using Average pooling\n",
        "def ds_average(img, k=2):\n",
        "    h, w = img.shape\n",
        "    new_h = h // k\n",
        "    new_w = w // k\n",
        "    new_img = np.zeros((new_h, new_w), dtype=np.float32)\n",
        "\n",
        "    for i in range(new_h):\n",
        "        for j in range(new_w):\n",
        "            block = img[i*k:(i+1)*k, j*k:(j+1)*k]\n",
        "            new_img[i, j] = np.mean(block)\n",
        "\n",
        "    return new_img.astype(np.uint8)\n"
      ]
    },
    {
      "cell_type": "code",
      "execution_count": 38,
      "metadata": {
        "id": "IzcS1dCytxBr"
      },
      "outputs": [],
      "source": [
        "# Downsample using Max pooling\n",
        "def ds_max(img, k=2):\n",
        "    h, w = img.shape\n",
        "    new_h = h // k\n",
        "    new_w = w // k\n",
        "    new_img = np.zeros((new_h, new_w), dtype=np.float32)\n",
        "\n",
        "    for i in range(new_h):\n",
        "        for j in range(new_w):\n",
        "            block = img[i*k:(i+1)*k, j*k:(j+1)*k]\n",
        "            new_img[i, j] = np.max(block)\n",
        "\n",
        "    return new_img.astype(np.uint8)"
      ]
    },
    {
      "cell_type": "code",
      "execution_count": 39,
      "metadata": {
        "id": "N40aJjIAug1u"
      },
      "outputs": [],
      "source": [
        "# Downsample using Median pooling\n",
        "def ds_median(img, k=2):\n",
        "    h, w = img.shape\n",
        "    new_h = h // k\n",
        "    new_w = w // k\n",
        "    new_img = [[0 for _ in range(new_w)] for _ in range(new_h)]\n",
        "\n",
        "    for i in range(new_h):\n",
        "        for j in range(new_w):\n",
        "            vals = []\n",
        "            for di in range(k):\n",
        "                for dj in range(k):\n",
        "                    vals.append(img[i*k + di, j*k + dj])\n",
        "\n",
        "            new_img[i][j] = int(np.median(vals))\n",
        "\n",
        "    return new_img"
      ]
    },
    {
      "cell_type": "code",
      "execution_count": 40,
      "metadata": {
        "colab": {
          "base_uri": "https://localhost:8080/"
        },
        "id": "xbEvbbYJuLCX",
        "outputId": "452d5b4a-6b9c-4aaa-b43b-70a78543b175"
      },
      "outputs": [],
      "source": [
        "avg_img = np.array(ds_average(img, k=2), dtype=np.uint8)\n",
        "max_img = np.array(ds_max(img, k=2), dtype=np.uint8)\n",
        "median_img = np.array(ds_median(img, k=2), dtype=np.uint8)"
      ]
    },
    {
      "cell_type": "code",
      "execution_count": 41,
      "metadata": {
        "colab": {
          "base_uri": "https://localhost:8080/",
          "height": 285
        },
        "id": "ka_dRhbouL2i",
        "outputId": "75a2dd42-6e19-46b5-a6ba-2b3644ccf49f"
      },
      "outputs": [
        {
          "data": {
            "image/png": "[encoded data removed]",
            "text/plain": [
              "<Figure size 1200x400 with 4 Axes>"
            ]
          },
          "metadata": {},
          "output_type": "display_data"
        }
      ],
      "source": [
        "# Display results\n",
        "plt.figure(figsize=(12,4))\n",
        "plt.subplot(1,4,1); plt.imshow(img, cmap=\"gray\"); plt.title(\"Original\")\n",
        "plt.subplot(1,4,2); plt.imshow(avg_img, cmap=\"gray\"); plt.title(\"Downsample Avg\")\n",
        "plt.subplot(1,4,3); plt.imshow(max_img, cmap=\"gray\"); plt.title(\"Downsample Max\")\n",
        "plt.subplot(1,4,4); plt.imshow(median_img, cmap=\"gray\"); plt.title(\"Downsample Median\")\n",
        "plt.show()"
      ]
    },
    {
      "cell_type": "code",
      "execution_count": 42,
      "metadata": {
        "id": "YAO5tpHDuarr"
      },
      "outputs": [],
      "source": [
        "# Upsample Nearest Neighboor\n",
        "def us_nn(img, k=2):\n",
        "    h, w = img.shape\n",
        "    new_h = k * h\n",
        "    new_w = k * w\n",
        "\n",
        "    # Create an empty NumPy array for the new image\n",
        "    new_img = np.zeros((new_h, new_w), dtype=img.dtype)\n",
        "\n",
        "    for i in range(new_h):\n",
        "        for j in range(new_w):\n",
        "            # Map new coordinates to old coordinates\n",
        "            # This integer division effectively finds the nearest neighbor\n",
        "            x_orig = i // k\n",
        "            y_orig = j // k\n",
        "\n",
        "            # Assign the pixel value from the nearest neighbor\n",
        "            new_img[i, j] = img[x_orig, y_orig]\n",
        "\n",
        "    return new_img.astype(np.uint8)"
      ]
    },
    {
      "cell_type": "code",
      "execution_count": 43,
      "metadata": {
        "id": "D01u54CmbYEF"
      },
      "outputs": [],
      "source": [
        "# Upsample Bilinear\n",
        "def us_bilinear(img, k=2):\n",
        "    h, w = img.shape\n",
        "    new_h = int(k * h)\n",
        "    new_w = int(k * w)\n",
        "    new_img = np.zeros((new_h, new_w), dtype=np.float32)\n",
        "\n",
        "    for i in range(new_h):\n",
        "        for j in range(new_w):\n",
        "            x = i / k\n",
        "            y = j / k\n",
        "            x1 = int(x)\n",
        "            y1 = int(y)\n",
        "\n",
        "            # Ensure indices don't go out of bounds\n",
        "            x2 = min(x1 + 1, h - 1)\n",
        "            y2 = min(y1 + 1, w - 1)\n",
        "\n",
        "            # Get the four surrounding pixel values\n",
        "            p1 = img[x1, y1]\n",
        "            p2 = img[x1, y2]\n",
        "            p3 = img[x2, y1]\n",
        "            p4 = img[x2, y2]\n",
        "\n",
        "            # Calculate interpolation weights\n",
        "            dx = x - x1\n",
        "            dy = y - y1\n",
        "\n",
        "            # Perform bilinear interpolation\n",
        "            interpolated_value = (1 - dx) * (1 - dy) * p1 + \\\n",
        "                                 (1 - dx) * dy * p2 + \\\n",
        "                                 dx * (1 - dy) * p3 + \\\n",
        "                                 dx * dy * p4\n",
        "\n",
        "            new_img[i, j] = interpolated_value\n",
        "\n",
        "    return new_img.astype(np.uint8)"
      ]
    },
    {
      "cell_type": "code",
      "execution_count": 44,
      "metadata": {
        "id": "VAQsSkY5eUGo"
      },
      "outputs": [],
      "source": [
        "import numpy as np\n",
        "\n",
        "def us_bicubic(img, k=2):\n",
        "    h, w = img.shape\n",
        "    new_h = int(k * h)\n",
        "    new_w = int(k * w)\n",
        "\n",
        "    # Create an empty NumPy array for the new image with float32 data type\n",
        "    new_img = np.zeros((new_h, new_w), dtype=np.float32)\n",
        "\n",
        "    # Define the cubic convolution interpolation kernel\n",
        "    def cubic_kernel(x):\n",
        "        abs_x = np.abs(x)\n",
        "        if abs_x <= 1:\n",
        "            return (1.5 * abs_x - 2.5) * abs_x * abs_x + 1\n",
        "        elif abs_x <= 2:\n",
        "            return ((-0.5 * abs_x + 2.5) * abs_x - 4) * abs_x + 2\n",
        "        else:\n",
        "            return 0.0\n",
        "\n",
        "    # Iterate over each pixel in the new image\n",
        "    for i in range(new_h):\n",
        "        for j in range(new_w):\n",
        "            # Map new coordinates to old coordinates\n",
        "            x_orig = i / k\n",
        "            y_orig = j / k\n",
        "\n",
        "            # Find the integer coordinates of the top-left pixel\n",
        "            x_floor = int(np.floor(x_orig))\n",
        "            y_floor = int(np.floor(y_orig))\n",
        "\n",
        "            # Calculate fractional parts\n",
        "            dx = x_orig - x_floor\n",
        "            dy = y_orig - y_floor\n",
        "\n",
        "            interpolated_value = 0\n",
        "\n",
        "            # Iterate over the 4x4 neighborhood of pixels\n",
        "            for m in range(-1, 3):\n",
        "                for n in range(-1, 3):\n",
        "                    # Get the coordinates of the neighbor pixel\n",
        "                    neighbor_x = x_floor + m\n",
        "                    neighbor_y = y_floor + n\n",
        "\n",
        "                    # Check for boundary conditions\n",
        "                    if 0 <= neighbor_x < h and 0 <= neighbor_y < w:\n",
        "                        # Calculate weights using the cubic kernel\n",
        "                        weight_x = cubic_kernel(dx - m)\n",
        "                        weight_y = cubic_kernel(dy - n)\n",
        "\n",
        "                        # Add the weighted pixel value to the total\n",
        "                        interpolated_value += img[neighbor_x, neighbor_y] * weight_x * weight_y\n",
        "\n",
        "            new_img[i, j] = interpolated_value\n",
        "\n",
        "    # Clip values to the valid range [0, 255] and convert to uint8\n",
        "    new_img = np.clip(new_img, 0, 255)\n",
        "    return new_img.astype(np.uint8)"
      ]
    },
    {
      "cell_type": "code",
      "execution_count": 45,
      "metadata": {
        "id": "m2km0to1bXWU"
      },
      "outputs": [],
      "source": [
        "nn_img = us_nn(img, k=2)\n",
        "bilinear_img = us_bilinear(img, k=2)\n",
        "bicubic_img = us_bicubic(img, k=2)"
      ]
    },
    {
      "cell_type": "code",
      "execution_count": 46,
      "metadata": {
        "colab": {
          "base_uri": "https://localhost:8080/",
          "height": 285
        },
        "id": "xVc-8q0iaqp3",
        "outputId": "c906ebc8-404b-4423-f529-f0ac13d1aca1"
      },
      "outputs": [
        {
          "data": {
            "image/png": "[encoded data removed]",
            "text/plain": [
              "<Figure size 1200x500 with 4 Axes>"
            ]
          },
          "metadata": {},
          "output_type": "display_data"
        }
      ],
      "source": [
        "plt.figure(figsize=(12,5))\n",
        "plt.subplot(1,4,1); plt.imshow(img, cmap=\"gray\"); plt.title(\"Original\")\n",
        "plt.subplot(1,4,2); plt.imshow(nn_img, cmap=\"gray\"); plt.title(\"Nearest Neighboor\")\n",
        "plt.subplot(1,4,3); plt.imshow(bilinear_img, cmap=\"gray\"); plt.title(\"Bilinear\")\n",
        "plt.subplot(1,4,4); plt.imshow(bicubic_img, cmap=\"gray\"); plt.title(\"Bicubic\")\n",
        "plt.show()"
      ]
    }
  ],
  "metadata": {
    "colab": {
      "provenance": []
    },
    "kernelspec": {
      "display_name": "Python 3",
      "name": "python3"
    },
    "language_info": {
      "codemirror_mode": {
        "name": "ipython",
        "version": 3
      },
      "file_extension": ".py",
      "mimetype": "text/x-python",
      "name": "python",
      "nbconvert_exporter": "python",
      "pygments_lexer": "ipython3",
      "version": "3.11.9"
    }
  },
  "nbformat": 4,
  "nbformat_minor": 0
}
